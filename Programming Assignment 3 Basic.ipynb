{
 "cells": [
  {
   "cell_type": "markdown",
   "id": "aaa6c7c9",
   "metadata": {},
   "source": [
    "# 1.\tWrite a Python Program to Check if a Number is Positive, Negative or Zero?"
   ]
  },
  {
   "cell_type": "code",
   "execution_count": 1,
   "id": "1d462c88",
   "metadata": {},
   "outputs": [
    {
     "name": "stdout",
     "output_type": "stream",
     "text": [
      "Enter a Real Number :-- 3\n",
      "Real Number 3.0 is postive\n"
     ]
    }
   ],
   "source": [
    "n = float(input(\"Enter a Real Number :-- \"))\n",
    "\n",
    "if n > 0:\n",
    "    print(\"Real Number {} is postive\".format(n))\n",
    "\n",
    "elif n == 0:\n",
    "    print(\"Real Number is Zero\")\n",
    "\n",
    "else:\n",
    "    print(\"Real number {} is Negative\".format(n))"
   ]
  },
  {
   "cell_type": "markdown",
   "id": "29eca3c6",
   "metadata": {},
   "source": [
    "# 2.\tWrite a Python Program to Check if a Number is Odd or Even?"
   ]
  },
  {
   "cell_type": "code",
   "execution_count": 2,
   "id": "4e72a4b7",
   "metadata": {},
   "outputs": [
    {
     "name": "stdout",
     "output_type": "stream",
     "text": [
      "Enter a number to check it's odd or Even :--  3\n",
      "Number 3 is Odd \n"
     ]
    }
   ],
   "source": [
    "n= int(input(\"Enter a number to check it's odd or Even :--  \"))\n",
    "if n%2 == 0 :\n",
    "    print(\"Number {} is Even \".format(n))\n",
    "else :\n",
    "    print(\"Number {} is Odd \".format(n))"
   ]
  },
  {
   "cell_type": "markdown",
   "id": "112e644a",
   "metadata": {},
   "source": [
    "# 3.\tWrite a Python Program to Check Leap Year?"
   ]
  },
  {
   "cell_type": "code",
   "execution_count": 3,
   "id": "21c8341b",
   "metadata": {},
   "outputs": [
    {
     "name": "stdout",
     "output_type": "stream",
     "text": [
      "Enter a year2064\n",
      "2064 is a leap year\n"
     ]
    }
   ],
   "source": [
    "n = int(input(\"Enter a year\"))\n",
    "if n%4 == 0 :\n",
    "    print(\"{} is a leap year\".format(n))\n",
    "else :\n",
    "    print(\"{} is not a leap year\".format(n))"
   ]
  },
  {
   "cell_type": "markdown",
   "id": "ef60e246",
   "metadata": {},
   "source": [
    "# 4.\tWrite a Python Program to Check Prime Number?"
   ]
  },
  {
   "cell_type": "code",
   "execution_count": 4,
   "id": "55715b08",
   "metadata": {},
   "outputs": [
    {
     "name": "stdout",
     "output_type": "stream",
     "text": [
      "Enter a number :7\n",
      "True\n"
     ]
    }
   ],
   "source": [
    "from primePy import primes\n",
    "\n",
    "n = int(input(\"Enter a number :\"))\n",
    "print(primes.check(n))"
   ]
  },
  {
   "cell_type": "markdown",
   "id": "51177098",
   "metadata": {},
   "source": [
    "# 5.\tWrite a Python Program to Print all Prime Numbers in an Interval of 1-10000?"
   ]
  },
  {
   "cell_type": "code",
   "execution_count": null,
   "id": "487fd873",
   "metadata": {},
   "outputs": [
    {
     "name": "stdout",
     "output_type": "stream",
     "text": [
      "Enter a Starting number to check prime numbers in a interval 1\n"
     ]
    }
   ],
   "source": [
    "from primePy import primes\n",
    "start = int(input(\"Enter a Starting number to check prime numbers in a interval \"))\n",
    "end = int(input(\"Enter a Ending number to check prime numbers in a interval \"))\n",
    "\n",
    "l = []\n",
    "for i in range(start,end) :\n",
    "    if primes.check(i) is True :\n",
    "        l.append(i)\n",
    "        i = i+1\n",
    "print(l)\n"
   ]
  },
  {
   "cell_type": "code",
   "execution_count": null,
   "id": "b45d29c2",
   "metadata": {},
   "outputs": [],
   "source": []
  }
 ],
 "metadata": {
  "kernelspec": {
   "display_name": "Python 3 (ipykernel)",
   "language": "python",
   "name": "python3"
  },
  "language_info": {
   "codemirror_mode": {
    "name": "ipython",
    "version": 3
   },
   "file_extension": ".py",
   "mimetype": "text/x-python",
   "name": "python",
   "nbconvert_exporter": "python",
   "pygments_lexer": "ipython3",
   "version": "3.9.7"
  }
 },
 "nbformat": 4,
 "nbformat_minor": 5
}
