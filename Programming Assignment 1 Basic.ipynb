{
 "cells": [
  {
   "cell_type": "markdown",
   "id": "db33df49",
   "metadata": {},
   "source": [
    "#  1.\tWrite a Python program to print \"Hello Python\"?"
   ]
  },
  {
   "cell_type": "code",
   "execution_count": 1,
   "id": "e6348ee8",
   "metadata": {},
   "outputs": [
    {
     "name": "stdout",
     "output_type": "stream",
     "text": [
      "Hello Python\n"
     ]
    }
   ],
   "source": [
    "print(\"Hello Python\")"
   ]
  },
  {
   "cell_type": "markdown",
   "id": "4bb8eec4",
   "metadata": {},
   "source": [
    "# 2.\tWrite a Python program to do arithmetical operations addition and division.?"
   ]
  },
  {
   "cell_type": "code",
   "execution_count": 2,
   "id": "177a6eee",
   "metadata": {},
   "outputs": [
    {
     "name": "stdout",
     "output_type": "stream",
     "text": [
      "Enter a number33\n",
      "Enter a number22\n",
      "Enter a number5\n",
      "237.0\n"
     ]
    }
   ],
   "source": [
    "a = int(input(\"Enter a number\"))\n",
    "b = int(input(\"Enter a number\"))\n",
    "c = int(input(\"Enter a number\"))\n",
    "\n",
    "d = ((((a^b)*b))/c ) - c\n",
    "print(d)"
   ]
  },
  {
   "cell_type": "markdown",
   "id": "ab4e3fc1",
   "metadata": {},
   "source": [
    "# 3.\tWrite a Python program to find the area of a triangle?"
   ]
  },
  {
   "cell_type": "code",
   "execution_count": 4,
   "id": "965b2e1a",
   "metadata": {},
   "outputs": [
    {
     "name": "stdout",
     "output_type": "stream",
     "text": [
      "Enter a number 1 side of Triangle :10\n",
      "Enter a number 2 side of Triangle :10\n",
      "Enter a number 3 side of Triangle :10\n",
      "Perimeter of Triangle is 15.0\n",
      "Area is  43.30127018922193\n"
     ]
    }
   ],
   "source": [
    "a = int(input(\"Enter a number 1 side of Triangle :\"))\n",
    "b = int(input(\"Enter a number 2 side of Triangle :\"))\n",
    "c = int(input(\"Enter a number 3 side of Triangle :\"))\n",
    "\n",
    "s = (a + b + c)/2\n",
    "print(\"Perimeter of Triangle is {}\".format(s))\n",
    "\n",
    "Area = (s*(s-a)*(s-b)*(s-c))**(1/2)\n",
    "print(\"Area is \",Area)"
   ]
  },
  {
   "cell_type": "markdown",
   "id": "564775d2",
   "metadata": {},
   "source": [
    "# 4.\tWrite a Python program to swap two variables?"
   ]
  },
  {
   "cell_type": "code",
   "execution_count": 5,
   "id": "801b68c9",
   "metadata": {},
   "outputs": [
    {
     "name": "stdout",
     "output_type": "stream",
     "text": [
      "Enter 1st number : 10\n",
      "Enter 2nd number : 20\n",
      "1st number value after swapping is :  20\n",
      "2nd number value after swapping is :  10\n"
     ]
    }
   ],
   "source": [
    "x = int(input(\"Enter 1st number : \"))\n",
    "y = int(input(\"Enter 2nd number : \"))\n",
    "\n",
    "# create a temporary variable and swap the values\n",
    "\n",
    "temp = x\n",
    "x = y\n",
    "y = temp\n",
    "\n",
    "print(\"1st number value after swapping is : \",x)\n",
    "print(\"2nd number value after swapping is : \",y)"
   ]
  },
  {
   "cell_type": "code",
   "execution_count": 6,
   "id": "a0b8752c",
   "metadata": {},
   "outputs": [
    {
     "name": "stdout",
     "output_type": "stream",
     "text": [
      "x = 10\n",
      "y = 5\n"
     ]
    }
   ],
   "source": [
    "#   Alternative Method W/O Temp variable\n",
    "\n",
    "x = 5\n",
    "y = 10\n",
    "\n",
    "x, y = y, x\n",
    "print(\"x =\", x)\n",
    "print(\"y =\", y)"
   ]
  },
  {
   "cell_type": "markdown",
   "id": "1c6b84da",
   "metadata": {},
   "source": [
    "# 5.\tWrite a Python program to generate a random number?"
   ]
  },
  {
   "cell_type": "code",
   "execution_count": 7,
   "id": "5e4916bb",
   "metadata": {},
   "outputs": [],
   "source": [
    "\n",
    "import random\n",
    "def Rand(start,end,num) :\n",
    "    j=0\n",
    "    res = []\n",
    "    for j in range(num) :\n",
    "        res.append(random.randint(start,end))\n",
    "        j = j+1\n",
    "    return res"
   ]
  },
  {
   "cell_type": "code",
   "execution_count": 8,
   "id": "36e6af53",
   "metadata": {},
   "outputs": [
    {
     "data": {
      "text/plain": [
       "[99, 71, 20, 86, 52, 74, 8, 25, 46, 91]"
      ]
     },
     "execution_count": 8,
     "metadata": {},
     "output_type": "execute_result"
    }
   ],
   "source": [
    "Rand(1,100,10)"
   ]
  },
  {
   "cell_type": "code",
   "execution_count": 9,
   "id": "82ba8b19",
   "metadata": {},
   "outputs": [
    {
     "data": {
      "text/plain": [
       "[46,\n",
       " 91,\n",
       " 29,\n",
       " 80,\n",
       " 96,\n",
       " 57,\n",
       " 69,\n",
       " 80,\n",
       " 75,\n",
       " 43,\n",
       " 26,\n",
       " 73,\n",
       " 89,\n",
       " 59,\n",
       " 38,\n",
       " 55,\n",
       " 22,\n",
       " 92,\n",
       " 92,\n",
       " 73]"
      ]
     },
     "execution_count": 9,
     "metadata": {},
     "output_type": "execute_result"
    }
   ],
   "source": [
    "Rand(1,100,20)"
   ]
  },
  {
   "cell_type": "code",
   "execution_count": null,
   "id": "29e0f45d",
   "metadata": {},
   "outputs": [],
   "source": []
  }
 ],
 "metadata": {
  "kernelspec": {
   "display_name": "Python 3 (ipykernel)",
   "language": "python",
   "name": "python3"
  },
  "language_info": {
   "codemirror_mode": {
    "name": "ipython",
    "version": 3
   },
   "file_extension": ".py",
   "mimetype": "text/x-python",
   "name": "python",
   "nbconvert_exporter": "python",
   "pygments_lexer": "ipython3",
   "version": "3.9.7"
  }
 },
 "nbformat": 4,
 "nbformat_minor": 5
}
