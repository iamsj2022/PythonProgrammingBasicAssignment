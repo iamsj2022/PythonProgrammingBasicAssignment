{
 "cells": [
  {
   "cell_type": "markdown",
   "id": "fc463e99",
   "metadata": {},
   "source": [
    "# 1.\tWrite a Python Program to Display Fibonacci Sequence Using Recursion?"
   ]
  },
  {
   "cell_type": "code",
   "execution_count": 1,
   "id": "df9da4f2",
   "metadata": {},
   "outputs": [
    {
     "name": "stdout",
     "output_type": "stream",
     "text": [
      "Enter a fibonacci number function 22\n",
      "Using Recursive the value of Function 22 is 17711\n"
     ]
    }
   ],
   "source": [
    "def fibRec (n) :\n",
    "    if n == 0 :\n",
    "        return 0\n",
    "    elif n == 1 :\n",
    "        return 1\n",
    "    else :\n",
    "        return (fibRec(n-1) + fibRec(n-2))\n",
    "\n",
    "\n",
    "if __name__ == '__main__' :\n",
    "    num = int(input(\"Enter a fibonacci number function \"))\n",
    "    print(f\"Using Recursive the value of Function {num} is {fibRec(num)}\")"
   ]
  },
  {
   "cell_type": "markdown",
   "id": "f5d4ef3e",
   "metadata": {},
   "source": [
    "# 2.\tWrite a Python Program to Find Factorial of Number Using Recursion?"
   ]
  },
  {
   "cell_type": "code",
   "execution_count": 3,
   "id": "251c2ea7",
   "metadata": {},
   "outputs": [
    {
     "name": "stdout",
     "output_type": "stream",
     "text": [
      "Enter a Factorial number function 8\n",
      "Using Recursive the value of Function 8 is 40320\n",
      "It took 0.0 seconds\n"
     ]
    }
   ],
   "source": [
    "import time\n",
    "def FactRec (n) :\n",
    "    if n == 0 :\n",
    "        return 1\n",
    "    elif n == 1 :\n",
    "        return 1\n",
    "    else :\n",
    "        return (n * FactRec(n-1))\n",
    "\n",
    "\n",
    "if __name__ == '__main__' :\n",
    "    num = int(input(\"Enter a Factorial number function \"))\n",
    "    init = time.time()\n",
    "    print(f\"Using Recursive the value of Function {num} is {FactRec(num)}\")\n",
    "    print(f\"It took {time.time() - init} seconds\")"
   ]
  },
  {
   "cell_type": "markdown",
   "id": "65687896",
   "metadata": {},
   "source": [
    "# 3.\tWrite a Python Program to calculate your Body Mass Index?"
   ]
  },
  {
   "cell_type": "code",
   "execution_count": 4,
   "id": "5ea544aa",
   "metadata": {},
   "outputs": [
    {
     "name": "stdout",
     "output_type": "stream",
     "text": [
      "Enter Your Height in inches72\n",
      "Enter Your Weight in kg60\n",
      "Your Body Mass Index is 27.811596679339853\n"
     ]
    }
   ],
   "source": [
    "height = int(input(\"Enter Your Height in inches\"))\n",
    "weight = int(input(\"Enter Your Weight in kg\"))\n",
    "\n",
    "height_m = 0.0204 * height\n",
    "\n",
    "BMI = weight/(height_m)**2\n",
    "\n",
    "print(f\"Your Body Mass Index is {BMI}\")"
   ]
  },
  {
   "cell_type": "markdown",
   "id": "7380cd45",
   "metadata": {},
   "source": [
    "# 4.\tWrite a Python Program to calculate the natural logarithm of any number?"
   ]
  },
  {
   "cell_type": "code",
   "execution_count": null,
   "id": "0f07427a",
   "metadata": {},
   "outputs": [],
   "source": [
    "import numpy as np\n",
    "\n",
    "n = int(input(\"Enter a number : \"))\n",
    "\n",
    "np.log(n)"
   ]
  },
  {
   "cell_type": "markdown",
   "id": "86bda509",
   "metadata": {},
   "source": [
    "# 5.\tWrite a Python Program for cube sum of first n natural numbers?"
   ]
  },
  {
   "cell_type": "code",
   "execution_count": 6,
   "id": "f72b5e93",
   "metadata": {},
   "outputs": [
    {
     "name": "stdout",
     "output_type": "stream",
     "text": [
      "Enter a number 5\n",
      "Sum of first 5 is 225\n"
     ]
    }
   ],
   "source": [
    "n = int(input(\"Enter a number \"))\n",
    "\n",
    "sum = 0\n",
    "\n",
    "for i in range(1,n+1) :\n",
    "    sum += i**3\n",
    "\n",
    "print(f\"Sum of first {n} is {sum}\")\n"
   ]
  },
  {
   "cell_type": "code",
   "execution_count": null,
   "id": "357698df",
   "metadata": {},
   "outputs": [],
   "source": []
  }
 ],
 "metadata": {
  "kernelspec": {
   "display_name": "Python 3 (ipykernel)",
   "language": "python",
   "name": "python3"
  },
  "language_info": {
   "codemirror_mode": {
    "name": "ipython",
    "version": 3
   },
   "file_extension": ".py",
   "mimetype": "text/x-python",
   "name": "python",
   "nbconvert_exporter": "python",
   "pygments_lexer": "ipython3",
   "version": "3.9.7"
  }
 },
 "nbformat": 4,
 "nbformat_minor": 5
}
