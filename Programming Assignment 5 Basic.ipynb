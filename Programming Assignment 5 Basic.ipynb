{
 "cells": [
  {
   "cell_type": "markdown",
   "id": "8719a1e0",
   "metadata": {},
   "source": [
    "# 1.\tWrite a Python Program to Find LCM?"
   ]
  },
  {
   "cell_type": "code",
   "execution_count": 2,
   "id": "8c11fc35",
   "metadata": {},
   "outputs": [
    {
     "name": "stdout",
     "output_type": "stream",
     "text": [
      "Enter a number A : 33\n",
      "Enter a number B : 22\n",
      "The LCM of 33 and 22 is 66\n"
     ]
    }
   ],
   "source": [
    "a = int(input(\"Enter a number A : \"))\n",
    "b = int(input(\"Enter a number B : \"))\n",
    "\n",
    "maxNum = max(a,b)\n",
    "\n",
    "while(True) :\n",
    "    if(maxNum % a == 0 and maxNum % b == 0) :\n",
    "        break\n",
    "    maxNum += 1\n",
    "\n",
    "print(f\"The LCM of {a} and {b} is {maxNum}\")\n"
   ]
  },
  {
   "cell_type": "markdown",
   "id": "7bc74f2b",
   "metadata": {},
   "source": [
    "# 2.\tWrite a Python Program to Find HCF?"
   ]
  },
  {
   "cell_type": "code",
   "execution_count": 3,
   "id": "8d877919",
   "metadata": {},
   "outputs": [
    {
     "name": "stdout",
     "output_type": "stream",
     "text": [
      "Enter a number A : 33\n",
      "Enter a number B : 11\n",
      "The HCF of 33 and 11 is 11\n"
     ]
    }
   ],
   "source": [
    "a = int(input(\"Enter a number A : \"))\n",
    "b = int(input(\"Enter a number B : \"))\n",
    "\n",
    "minNum = min(a,b)\n",
    "\n",
    "while (True) :\n",
    "    if (minNum % a == 0 or minNum % b == 0) :\n",
    "        break\n",
    "    minNum -= 1\n",
    "\n",
    "print(f\"The HCF of {a} and {b} is {minNum}\")"
   ]
  },
  {
   "cell_type": "markdown",
   "id": "eaaed27b",
   "metadata": {},
   "source": [
    "# Method 2 \n"
   ]
  },
  {
   "cell_type": "code",
   "execution_count": 4,
   "id": "1f257ed5",
   "metadata": {},
   "outputs": [
    {
     "name": "stdout",
     "output_type": "stream",
     "text": [
      "Enter a number A : 27\n",
      "Enter a number B : 6\n",
      "LCM of 27 and 6 is 54.0\n",
      "HCF or GCD of  27 and 6 is 3\n"
     ]
    }
   ],
   "source": [
    "# Method 2 : Using function\n",
    "\n",
    "a = int(input(\"Enter a number A : \"))\n",
    "b = int(input(\"Enter a number B : \"))\n",
    "\n",
    "\n",
    "def gcd(a,b):\n",
    "    if a == 0:\n",
    "        return b\n",
    "    return gcd(b % a, a)\n",
    "\n",
    "def lcm(a,b) :\n",
    "    return ((a/gcd(a,b))*b)\n",
    "\n",
    "print('LCM of', a, 'and', b, 'is', lcm(a, b))\n",
    "print('HCF or GCD of ',a,'and',b ,'is',gcd(a,b))"
   ]
  },
  {
   "cell_type": "markdown",
   "id": "f0e2ac95",
   "metadata": {},
   "source": [
    "# 3.\tWrite a Python Program to Convert Decimal to Binary, Octal and Hexadecimal?"
   ]
  },
  {
   "cell_type": "code",
   "execution_count": 5,
   "id": "48d0b3f5",
   "metadata": {},
   "outputs": [
    {
     "name": "stdout",
     "output_type": "stream",
     "text": [
      "Enter a number : 77\n",
      "0b1001101\n",
      "0o115\n",
      "0x4d\n"
     ]
    }
   ],
   "source": [
    "n = int(input(\"Enter a number : \"))\n",
    "\n",
    "print(bin(n))\n",
    "print(oct(n))\n",
    "print(hex(n))"
   ]
  },
  {
   "cell_type": "markdown",
   "id": "98f13678",
   "metadata": {},
   "source": [
    "# 4.\tWrite a Python Program To Find ASCII value of a character?"
   ]
  },
  {
   "cell_type": "code",
   "execution_count": 6,
   "id": "8da13c1b",
   "metadata": {},
   "outputs": [
    {
     "name": "stdout",
     "output_type": "stream",
     "text": [
      "Enter a key : ,\n",
      "44\n"
     ]
    }
   ],
   "source": [
    "a = input(\"Enter a key : \")\n",
    "\n",
    "print(ord(a))"
   ]
  },
  {
   "cell_type": "markdown",
   "id": "2831ce0a",
   "metadata": {},
   "source": [
    "# 5.\tWrite a Python Program to Make a Simple Calculator with 4 basic mathematical operations?"
   ]
  },
  {
   "cell_type": "code",
   "execution_count": 8,
   "id": "622c4c91",
   "metadata": {},
   "outputs": [
    {
     "name": "stdout",
     "output_type": "stream",
     "text": [
      "Please select operation -\n",
      "1. Add\n",
      "2. Subtract\n",
      "3. Multiply\n",
      "4. Divide\n",
      "\n",
      "Select operations form 1, 2, 3, 4 :1\n",
      "Enter first number: 5\n",
      "Enter second number: 4\n",
      "5 + 4 = 9\n"
     ]
    }
   ],
   "source": [
    "# Python program for simple calculator\n",
    "\n",
    "# Function to add two numbers\n",
    "def add(num1, num2):\n",
    "\treturn num1 + num2\n",
    "\n",
    "# Function to subtract two numbers\n",
    "def subtract(num1, num2):\n",
    "\treturn num1 - num2\n",
    "\n",
    "# Function to multiply two numbers\n",
    "def multiply(num1, num2):\n",
    "\treturn num1 * num2\n",
    "\n",
    "# Function to divide two numbers\n",
    "def divide(num1, num2):\n",
    "\treturn num1 / num2\n",
    "\n",
    "print(\"Please select operation -\\n\" \\\n",
    "\t\t\"1. Add\\n\" \\\n",
    "\t\t\"2. Subtract\\n\" \\\n",
    "\t\t\"3. Multiply\\n\" \\\n",
    "\t\t\"4. Divide\\n\")\n",
    "\n",
    "\n",
    "# Take input from the user\n",
    "select = int(input(\"Select operations form 1, 2, 3, 4 :\"))\n",
    "\n",
    "number_1 = int(input(\"Enter first number: \"))\n",
    "number_2 = int(input(\"Enter second number: \"))\n",
    "\n",
    "if select == 1:\n",
    "\tprint(number_1, \"+\", number_2, \"=\",\n",
    "\t\t\t\t\tadd(number_1, number_2))\n",
    "\n",
    "elif select == 2:\n",
    "\tprint(number_1, \"-\", number_2, \"=\",\n",
    "\t\t\t\t\tsubtract(number_1, number_2))\n",
    "\n",
    "elif select == 3:\n",
    "\tprint(number_1, \"*\", number_2, \"=\",\n",
    "\t\t\t\t\tmultiply(number_1, number_2))\n",
    "\n",
    "elif select == 4:\n",
    "\tprint(number_1, \"/\", number_2, \"=\",\n",
    "\t\t\t\t\tdivide(number_1, number_2))\n",
    "else:\n",
    "\tprint(\"Invalid input\")\n"
   ]
  },
  {
   "cell_type": "code",
   "execution_count": null,
   "id": "e3fd4fc3",
   "metadata": {},
   "outputs": [],
   "source": []
  }
 ],
 "metadata": {
  "kernelspec": {
   "display_name": "Python 3 (ipykernel)",
   "language": "python",
   "name": "python3"
  },
  "language_info": {
   "codemirror_mode": {
    "name": "ipython",
    "version": 3
   },
   "file_extension": ".py",
   "mimetype": "text/x-python",
   "name": "python",
   "nbconvert_exporter": "python",
   "pygments_lexer": "ipython3",
   "version": "3.9.7"
  }
 },
 "nbformat": 4,
 "nbformat_minor": 5
}
