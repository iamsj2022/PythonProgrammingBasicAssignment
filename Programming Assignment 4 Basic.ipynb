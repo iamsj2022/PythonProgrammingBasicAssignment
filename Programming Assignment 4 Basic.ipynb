{
 "cells": [
  {
   "cell_type": "markdown",
   "id": "c77e24f7",
   "metadata": {},
   "source": [
    "# 1.\tWrite a Python Program to Find the Factorial of a Number?"
   ]
  },
  {
   "cell_type": "code",
   "execution_count": 1,
   "id": "3a4acd85",
   "metadata": {},
   "outputs": [
    {
     "name": "stdout",
     "output_type": "stream",
     "text": [
      "Enter a number: 11\n",
      "the factorial of  11 is 39916800\n"
     ]
    }
   ],
   "source": [
    "num = int(input(\"Enter a number: \"))\n",
    "\n",
    "factorial = 1\n",
    "\n",
    "for i in range(1,num+1) :\n",
    "    factorial = factorial * i\n",
    "\n",
    "print(\"the factorial of \",num,\"is\",factorial)"
   ]
  },
  {
   "cell_type": "markdown",
   "id": "777de737",
   "metadata": {},
   "source": [
    "# 2.\tWrite a Python Program to Display the multiplication Table?\n"
   ]
  },
  {
   "cell_type": "code",
   "execution_count": 2,
   "id": "25f67412",
   "metadata": {},
   "outputs": [
    {
     "name": "stdout",
     "output_type": "stream",
     "text": [
      "Enter a number for its multiplication table 21\n",
      "21 * 1 = [21]\n",
      "21 * 2 = [21, 42]\n",
      "21 * 3 = [21, 42, 63]\n",
      "21 * 4 = [21, 42, 63, 84]\n",
      "21 * 5 = [21, 42, 63, 84, 105]\n",
      "21 * 6 = [21, 42, 63, 84, 105, 126]\n",
      "21 * 7 = [21, 42, 63, 84, 105, 126, 147]\n",
      "21 * 8 = [21, 42, 63, 84, 105, 126, 147, 168]\n",
      "21 * 9 = [21, 42, 63, 84, 105, 126, 147, 168, 189]\n",
      "21 * 10 = [21, 42, 63, 84, 105, 126, 147, 168, 189, 210]\n"
     ]
    }
   ],
   "source": [
    "\n",
    "n = int(input(\"Enter a number for its multiplication table \"))\n",
    "l = []\n",
    "for i in range(1,11) :\n",
    "    l.append(n*i)\n",
    "    print (n,\"*\",i,\"=\",l)"
   ]
  },
  {
   "cell_type": "markdown",
   "id": "32acff0c",
   "metadata": {},
   "source": [
    "# 3.\tWrite a Python Program to Print the Fibonacci sequence?\n"
   ]
  },
  {
   "cell_type": "code",
   "execution_count": 3,
   "id": "dcd44af5",
   "metadata": {},
   "outputs": [
    {
     "name": "stdout",
     "output_type": "stream",
     "text": [
      "How many terms? 21\n",
      "Fibonacci sequence:\n",
      "0\n",
      "1\n",
      "1\n",
      "2\n",
      "3\n",
      "5\n",
      "8\n",
      "13\n",
      "21\n",
      "34\n",
      "55\n",
      "89\n",
      "144\n",
      "233\n",
      "377\n",
      "610\n",
      "987\n",
      "1597\n",
      "2584\n",
      "4181\n",
      "6765\n"
     ]
    }
   ],
   "source": [
    "nterms = int(input(\"How many terms? \"))\n",
    "\n",
    "# first two terms\n",
    "n1, n2 = 0, 1\n",
    "count = 0\n",
    "\n",
    "# check if the number of terms is valid\n",
    "if nterms <= 0:\n",
    "   print(\"Please enter a positive integer\")\n",
    "# if there is only one term, return n1\n",
    "elif nterms == 1:\n",
    "   print(\"Fibonacci sequence upto\",nterms,\":\")\n",
    "   print(n1)\n",
    "# generate fibonacci sequence\n",
    "else:\n",
    "   print(\"Fibonacci sequence:\")\n",
    "   while count < nterms:\n",
    "       print(n1)\n",
    "       nth = n1 + n2\n",
    "       # update values\n",
    "       n1 = n2\n",
    "       n2 = nth\n",
    "       count += 1"
   ]
  },
  {
   "cell_type": "markdown",
   "id": "9a28fb26",
   "metadata": {},
   "source": [
    "# 4.\tWrite a Python Program to Check Armstrong Number?\n"
   ]
  },
  {
   "cell_type": "code",
   "execution_count": 5,
   "id": "666b5c2d",
   "metadata": {},
   "outputs": [
    {
     "name": "stdout",
     "output_type": "stream",
     "text": [
      "Enter a number : 9\n",
      "9 is an Armstrong number \n"
     ]
    }
   ],
   "source": [
    "\n",
    "num = int(input(\"Enter a number : \"))\n",
    "\n",
    "order = len(str(num))\n",
    "\n",
    "sum = 0\n",
    "temp = num\n",
    "\n",
    "while temp > 0 :\n",
    "    digit = temp%10\n",
    "    sum += digit**order\n",
    "    temp //=10\n",
    "\n",
    "if sum == num :\n",
    "    print(\"{} is an Armstrong number \".format(num))\n",
    "\n",
    "else :\n",
    "    print(\"{} is not an Armstrong number \".format(num))"
   ]
  },
  {
   "cell_type": "markdown",
   "id": "40003610",
   "metadata": {},
   "source": [
    "5.   Write a Python Program to Find Armstrong Number in an Interval?"
   ]
  },
  {
   "cell_type": "code",
   "execution_count": 6,
   "id": "ab71ce57",
   "metadata": {},
   "outputs": [
    {
     "name": "stdout",
     "output_type": "stream",
     "text": [
      "Starting Point of the Interval : 10\n",
      "Ending point of the Interval :100000\n",
      "153\n",
      "370\n",
      "371\n",
      "407\n",
      "1634\n",
      "8208\n",
      "9474\n",
      "54748\n",
      "92727\n",
      "93084\n"
     ]
    }
   ],
   "source": [
    "Start = int(input(\"Starting Point of the Interval : \"))\n",
    "End = int(input(\"Ending point of the Interval :\"))\n",
    "\n",
    "res = []\n",
    "\n",
    "for num in range(Start, End + 1):\n",
    "    order = len(str(num))\n",
    "    sum = 0\n",
    "    temp = num\n",
    "    while temp > 0:\n",
    "        digit = temp % 10\n",
    "        sum += digit ** order\n",
    "        temp //= 10\n",
    "\n",
    "    if sum == num:\n",
    "        print(num)\n"
   ]
  },
  {
   "cell_type": "markdown",
   "id": "115de78e",
   "metadata": {},
   "source": [
    "#  6.\tWrite a Python Program to Find the Sum of Natural Numbers?"
   ]
  },
  {
   "cell_type": "code",
   "execution_count": 11,
   "id": "b5b41a8c",
   "metadata": {},
   "outputs": [
    {
     "name": "stdout",
     "output_type": "stream",
     "text": [
      "Enter a Starting number of Natural numbers : 1\n",
      "Enter a Ending number of Natural numbers : 9\n",
      "1\n",
      "3\n",
      "6\n",
      "10\n",
      "15\n",
      "21\n",
      "28\n",
      "36\n",
      "45\n"
     ]
    }
   ],
   "source": [
    "Start   = int(input(\"Enter a Starting number of Natural numbers : \"))\n",
    "End = int(input(\"Enter a Ending number of Natural numbers : \"))\n",
    "\n",
    "sum = 0\n",
    "num = Start\n",
    "\n",
    "for num in range(Start,End + 1) :\n",
    "    sum += num\n",
    "    print(sum)\n"
   ]
  },
  {
   "cell_type": "code",
   "execution_count": null,
   "id": "527bdffc",
   "metadata": {},
   "outputs": [],
   "source": []
  }
 ],
 "metadata": {
  "kernelspec": {
   "display_name": "Python 3 (ipykernel)",
   "language": "python",
   "name": "python3"
  },
  "language_info": {
   "codemirror_mode": {
    "name": "ipython",
    "version": 3
   },
   "file_extension": ".py",
   "mimetype": "text/x-python",
   "name": "python",
   "nbconvert_exporter": "python",
   "pygments_lexer": "ipython3",
   "version": "3.9.7"
  }
 },
 "nbformat": 4,
 "nbformat_minor": 5
}
