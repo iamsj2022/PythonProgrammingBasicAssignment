{
 "cells": [
  {
   "cell_type": "markdown",
   "id": "6d1a25f5",
   "metadata": {},
   "source": [
    "# 1.    Write a Python program to convert kilometers to miles?"
   ]
  },
  {
   "cell_type": "code",
   "execution_count": 2,
   "id": "2c9628bf",
   "metadata": {},
   "outputs": [
    {
     "name": "stdout",
     "output_type": "stream",
     "text": [
      "Enter '(kms)'5.5\n"
     ]
    },
    {
     "data": {
      "text/plain": [
       "5500.0"
      ]
     },
     "execution_count": 2,
     "metadata": {},
     "output_type": "execute_result"
    }
   ],
   "source": [
    "a = float(input(\"Enter '(kms)'\"))\n",
    "b = 1000 * a\n",
    "b\n"
   ]
  },
  {
   "cell_type": "markdown",
   "id": "803b1d03",
   "metadata": {},
   "source": [
    "# 2.    Write a Python program to convert Celsius to Fahrenheit?"
   ]
  },
  {
   "cell_type": "code",
   "execution_count": 3,
   "id": "883523a1",
   "metadata": {},
   "outputs": [
    {
     "name": "stdout",
     "output_type": "stream",
     "text": [
      "Enter the temperature of your city in celsius : -- 32\n",
      "The Temperature in fahrenheit :--  57.6\n"
     ]
    }
   ],
   "source": [
    "c = float(input(\"Enter the temperature of your city in celsius : -- \"))\n",
    "f = (9*c)/5\n",
    "print(\"The Temperature in fahrenheit :-- \",f)"
   ]
  },
  {
   "cell_type": "markdown",
   "id": "e46ce15e",
   "metadata": {},
   "source": [
    "# 3.\tWrite a Python program to display calendar?"
   ]
  },
  {
   "cell_type": "code",
   "execution_count": 4,
   "id": "7c2b3b2d",
   "metadata": {},
   "outputs": [
    {
     "name": "stdout",
     "output_type": "stream",
     "text": [
      "     March 2022\n",
      "Mo Tu We Th Fr Sa Su\n",
      "    1  2  3  4  5  6\n",
      " 7  8  9 10 11 12 13\n",
      "14 15 16 17 18 19 20\n",
      "21 22 23 24 25 26 27\n",
      "28 29 30 31\n",
      "\n"
     ]
    }
   ],
   "source": [
    "import calendar\n",
    "\n",
    "yy = 2022\n",
    "mm = 3\n",
    "\n",
    "print(calendar.month(yy,mm))"
   ]
  },
  {
   "cell_type": "markdown",
   "id": "e612dfba",
   "metadata": {},
   "source": [
    "# 4.\tWrite a Python program to solve quadratic equation?"
   ]
  },
  {
   "cell_type": "code",
   "execution_count": 6,
   "id": "0b573f4e",
   "metadata": {},
   "outputs": [],
   "source": [
    "\n",
    "import math\n",
    "def equation_roots(a,b,c) :\n",
    "    disc = (b**b) - 4*(a*c)\n",
    "    squdisc = disc**.5\n",
    "    if disc > 0 :\n",
    "        return (\"Roots are real and different \",(-b+squdisc),(-b-squdisc))\n",
    "    elif disc == 0 :\n",
    "        return (\"Roots are real and same \",(-b/(2*a)))\n",
    "    else :\n",
    "        return (\"Having Complex Roots\")"
   ]
  },
  {
   "cell_type": "code",
   "execution_count": 8,
   "id": "919a2c09",
   "metadata": {},
   "outputs": [
    {
     "data": {
      "text/plain": [
       "('Roots are real and different ', 0.3166247903553998, -6.3166247903554)"
      ]
     },
     "execution_count": 8,
     "metadata": {},
     "output_type": "execute_result"
    }
   ],
   "source": [
    "equation_roots(2,3,2)"
   ]
  },
  {
   "cell_type": "markdown",
   "id": "be596709",
   "metadata": {},
   "source": [
    "# 5.    Write a Python program to swap two variables without temp variable?"
   ]
  },
  {
   "cell_type": "code",
   "execution_count": 9,
   "id": "d3f0daa8",
   "metadata": {},
   "outputs": [
    {
     "name": "stdout",
     "output_type": "stream",
     "text": [
      "Enter 1st no before Swap33\n",
      "Enter 2nd no before Swap333\n",
      "333 33\n"
     ]
    }
   ],
   "source": [
    "x = int(input(\"Enter 1st no before Swap\"))\n",
    "y= int(input(\"Enter 2nd no before Swap\"))\n",
    "\n",
    "x,y = y,x\n",
    "\n",
    "print(x,y)"
   ]
  },
  {
   "cell_type": "code",
   "execution_count": null,
   "id": "72f5bc8f",
   "metadata": {},
   "outputs": [],
   "source": []
  }
 ],
 "metadata": {
  "kernelspec": {
   "display_name": "Python 3 (ipykernel)",
   "language": "python",
   "name": "python3"
  },
  "language_info": {
   "codemirror_mode": {
    "name": "ipython",
    "version": 3
   },
   "file_extension": ".py",
   "mimetype": "text/x-python",
   "name": "python",
   "nbconvert_exporter": "python",
   "pygments_lexer": "ipython3",
   "version": "3.9.7"
  }
 },
 "nbformat": 4,
 "nbformat_minor": 5
}
